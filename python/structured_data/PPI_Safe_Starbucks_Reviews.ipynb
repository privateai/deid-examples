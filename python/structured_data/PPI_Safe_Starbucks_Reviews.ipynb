{
  "cells": [
    {
      "cell_type": "code",
      "execution_count": null,
      "metadata": {
        "colab": {
          "base_uri": "https://localhost:8080/"
        },
        "id": "9kRv8WZ2qjn-",
        "outputId": "b3a8ce08-ca72-47e2-fe52-b0d99b02318c"
      },
      "outputs": [
        {
          "name": "stdout",
          "output_type": "stream",
          "text": [
            "Drive already mounted at /content/drive; to attempt to forcibly remount, call drive.mount(\"/content/drive\", force_remount=True).\n"
          ]
        }
      ],
      "source": [
        "from google.colab import drive\n",
        "drive.mount('/content/drive')"
      ]
    },
    {
      "cell_type": "markdown",
      "metadata": {},
      "source": [
        "## Run this Notebook in Google Colab\n",
        "<a target=\"_blank\" href=\"https://colab.research.google.com/github/privateai/deid-examples/blob/main/python/LLM%20Examples/Removing%20Confidential%20Financial%20Information%20via%20Redaction%20for%20LLMs.ipynb\">\n",
        "  <img src=\"https://colab.research.google.com/assets/colab-badge.svg\" alt=\"Open In Colab\"/>\n",
        "</a>"
      ]
    },
    {
      "cell_type": "code",
      "execution_count": null,
      "metadata": {
        "colab": {
          "base_uri": "https://localhost:8080/"
        },
        "id": "B2-rsThLd0G5",
        "outputId": "737c4e71-def5-4f9e-bb9c-bc8e9d1792a9"
      },
      "outputs": [
        {
          "name": "stdout",
          "output_type": "stream",
          "text": [
            "Requirement already satisfied: transformers in /usr/local/lib/python3.10/dist-packages (4.35.2)\n",
            "Requirement already satisfied: filelock in /usr/local/lib/python3.10/dist-packages (from transformers) (3.13.1)\n",
            "Requirement already satisfied: huggingface-hub<1.0,>=0.16.4 in /usr/local/lib/python3.10/dist-packages (from transformers) (0.20.3)\n",
            "Requirement already satisfied: numpy>=1.17 in /usr/local/lib/python3.10/dist-packages (from transformers) (1.25.2)\n",
            "Requirement already satisfied: packaging>=20.0 in /usr/local/lib/python3.10/dist-packages (from transformers) (23.2)\n",
            "Requirement already satisfied: pyyaml>=5.1 in /usr/local/lib/python3.10/dist-packages (from transformers) (6.0.1)\n",
            "Requirement already satisfied: regex!=2019.12.17 in /usr/local/lib/python3.10/dist-packages (from transformers) (2023.12.25)\n",
            "Requirement already satisfied: requests in /usr/local/lib/python3.10/dist-packages (from transformers) (2.31.0)\n",
            "Requirement already satisfied: tokenizers<0.19,>=0.14 in /usr/local/lib/python3.10/dist-packages (from transformers) (0.15.2)\n",
            "Requirement already satisfied: safetensors>=0.3.1 in /usr/local/lib/python3.10/dist-packages (from transformers) (0.4.2)\n",
            "Requirement already satisfied: tqdm>=4.27 in /usr/local/lib/python3.10/dist-packages (from transformers) (4.66.2)\n",
            "Requirement already satisfied: fsspec>=2023.5.0 in /usr/local/lib/python3.10/dist-packages (from huggingface-hub<1.0,>=0.16.4->transformers) (2023.6.0)\n",
            "Requirement already satisfied: typing-extensions>=3.7.4.3 in /usr/local/lib/python3.10/dist-packages (from huggingface-hub<1.0,>=0.16.4->transformers) (4.9.0)\n",
            "Requirement already satisfied: charset-normalizer<4,>=2 in /usr/local/lib/python3.10/dist-packages (from requests->transformers) (3.3.2)\n",
            "Requirement already satisfied: idna<4,>=2.5 in /usr/local/lib/python3.10/dist-packages (from requests->transformers) (3.6)\n",
            "Requirement already satisfied: urllib3<3,>=1.21.1 in /usr/local/lib/python3.10/dist-packages (from requests->transformers) (2.0.7)\n",
            "Requirement already satisfied: certifi>=2017.4.17 in /usr/local/lib/python3.10/dist-packages (from requests->transformers) (2024.2.2)\n"
          ]
        }
      ],
      "source": [
        "!pip install transformers"
      ]
    },
    {
      "cell_type": "code",
      "execution_count": null,
      "metadata": {
        "id": "d4ILVE2_ghBI"
      },
      "outputs": [],
      "source": [
        "import pandas as pd\n",
        "import transformers"
      ]
    },
    {
      "cell_type": "markdown",
      "metadata": {
        "id": "sWfwDRuRwR3f"
      },
      "source": [
        "# The Starbucks Reviews Dataset\n",
        "\n",
        "This dataset is from a kaggle contest on Starbucks reviews. The goal of the contest is to analyse customer feedback for sentiment. However, as you can see the dataset contains lots of PII - including comments about workers in the individual reviews. That is not great... let's see how we can fix that with PrivateAI"
      ]
    },
    {
      "cell_type": "code",
      "execution_count": null,
      "metadata": {
        "id": "fd44D4fHgkx6"
      },
      "outputs": [],
      "source": [
        "data_frame = pd.read_csv('./sample_data/starbrucks_reviews_data.csv',header=0)"
      ]
    },
    {
      "cell_type": "markdown",
      "metadata": {
        "id": "Sjk4_S6Qxr9i"
      },
      "source": [
        "## Original Dataframe\n",
        "\n",
        "The original dataframe has comments that talk about specific workers, like Amber and LaDonna in the first record"
      ]
    },
    {
      "cell_type": "code",
      "execution_count": null,
      "metadata": {
        "colab": {
          "base_uri": "https://localhost:8080/",
          "height": 538
        },
        "id": "VPoEXHvDg3id",
        "outputId": "9b10ed79-90ea-4c87-91c4-19c2cfb91c08"
      },
      "outputs": [
        {
          "data": {
            "application/vnd.google.colaboratory.intrinsic+json": {
              "summary": "{\n  \"name\": \"data_frame\",\n  \"rows\": 850,\n  \"fields\": [\n    {\n      \"column\": \"name\",\n      \"properties\": {\n        \"dtype\": \"string\",\n        \"samples\": [\n          \"M\",\n          \"Pete\",\n          \"Arpana\"\n        ],\n        \"num_unique_values\": 604,\n        \"semantic_type\": \"\",\n        \"description\": \"\"\n      }\n    },\n    {\n      \"column\": \"location\",\n      \"properties\": {\n        \"dtype\": \"string\",\n        \"samples\": [\n          \"Flossmoor, IL\",\n          \"Kamloops, BC\",\n          \"Renton, WA\"\n        ],\n        \"num_unique_values\": 633,\n        \"semantic_type\": \"\",\n        \"description\": \"\"\n      }\n    },\n    {\n      \"column\": \"Date\",\n      \"properties\": {\n        \"dtype\": \"string\",\n        \"samples\": [\n          \"Reviewed Sept. 23, 2020\",\n          \"Reviewed Dec. 7, 2018\",\n          \"Reviewed Oct. 14, 2016\"\n        ],\n        \"num_unique_values\": 741,\n        \"semantic_type\": \"\",\n        \"description\": \"\"\n      }\n    },\n    {\n      \"column\": \"Rating\",\n      \"properties\": {\n        \"dtype\": \"number\",\n        \"std\": 1.3976715116280025,\n        \"min\": 1.0,\n        \"max\": 5.0,\n        \"samples\": [\n          1.0,\n          4.0,\n          2.0\n        ],\n        \"num_unique_values\": 5,\n        \"semantic_type\": \"\",\n        \"description\": \"\"\n      }\n    },\n    {\n      \"column\": \"Review\",\n      \"properties\": {\n        \"dtype\": \"string\",\n        \"samples\": [\n          \"I was in the drive thru at the Barranca Ave. West Covina Starbucks yesterday at 3:40pm. I was picking up 3 grande ice tea for coaches at a nearby high school baseball game. I asked to have each ring up separately. I was told that there is a limit of 2 transactions at the drive thru??? Funny, a week earlier I ordered 4 separate orders at the same drive thru without any trouble? The car in front of me had 4 separate transactions as I watched the customer have her phone scanned 4 separate times?\",\n          \"I ordered trente Valencia orange drinks with no ice and she gave me two one half cup fills of drink. When I told her this was not right, she said that is what her manager told her to do. I would have to fill the cup totally full if ice for this drink to go to top of cup. The drinks cost $4.25 and you get a little drink with your ice and cup. Their lemon pound is stale everyday but one out of the week.\",\n          \"This company has earned its popularity by maintaining a great quality business. Starbucks holds a welcoming environment, is widely available, and serves a variety of menu options. Starbucks has a unique, modern style. Starbucks creates a place fitting to the environment, giving them a truly natural and positive vibe. Locals are most likely to feel at home at their surrounding locations. The employees at every location always fit in perfectly as well. The alternative styles and quirky personalities of Starbucks employees make for authentic coffeehouse vibes. \"\n        ],\n        \"num_unique_values\": 814,\n        \"semantic_type\": \"\",\n        \"description\": \"\"\n      }\n    },\n    {\n      \"column\": \"Image_Links\",\n      \"properties\": {\n        \"dtype\": \"category\",\n        \"samples\": [\n          \"['https://media.consumeraffairs.com/files/cache/reviews/starbucks_239350_thumbnail.JPG']\",\n          \"['https://media.consumeraffairs.com/files/cache/reviews/starbucks_59083_thumbnail.jpg', 'https://media.consumeraffairs.com/files/cache/reviews/starbucks_59086_thumbnail.jpg']\",\n          \"['https://media.consumeraffairs.com/files/cache/reviews/starbucks_320005_thumbnail.jpg']\"\n        ],\n        \"num_unique_values\": 47,\n        \"semantic_type\": \"\",\n        \"description\": \"\"\n      }\n    }\n  ]\n}",
              "type": "dataframe",
              "variable_name": "data_frame"
            },
            "application/vnd.google.colaboratory.module+javascript": "\n      import \"https://ssl.gstatic.com/colaboratory/data_table/881c4a0d49046431/data_table.js\";\n\n      const table = window.createDataTable({\n        data: [[{\n            'v': 0,\n            'f': \"0\",\n        },\n\"Helen\",\n\"Wichita Falls, TX\",\n\"Reviewed Sept. 13, 2023\",\n{\n            'v': 5.0,\n            'f': \"5.0\",\n        },\n\"Amber and LaDonna at the Starbucks on Southwest Parkway are always so warm and welcoming. There is always a smile in their voice when they greet you at the drive-thru. And their customer service is always spot-on, they always get my order right and with a smile. I would actually give them more than 5 stars if they were available.\",\n\"['No Images']\"],\n [{\n            'v': 1,\n            'f': \"1\",\n        },\n\"Courtney\",\n\"Apopka, FL\",\n\"Reviewed July 16, 2023\",\n{\n            'v': 5.0,\n            'f': \"5.0\",\n        },\n\"** at the Starbucks by the fire station on 436 in Altamonte Springs, FL made my day and finally helped me figure out the way to make my drink so I\\u2019d love it. She took time out to talk to me for 2 minutes to make my experience better than what I\\u2019m used to. It was much appreciated! I\\u2019ve had bad experiences one after another at the Starbucks that\\u2019s closest to me in my work building with my drinks not being great along with not great customer service from specific baristas. Niko was refreshing to speak to and pleasant. The drink was perfect! Store 11956\",\n\"['No Images']\"],\n [{\n            'v': 2,\n            'f': \"2\",\n        },\n\"Daynelle\",\n\"Cranberry Twp, PA\",\n\"Reviewed July 5, 2023\",\n{\n            'v': 5.0,\n            'f': \"5.0\",\n        },\n\"I just wanted to go out of my way to recognize a Starbucks employee Billy at the Franklin Park location! I was running late to work & placed an order at the wrong location and not only did he make my order with a smile he made it within 60 seconds! Thank you SOO much I was having a bad morning and people like you just make this world a better place.\",\n\"['https://media.consumeraffairs.com/files/cache/reviews/starbucks_804950_thumbnail.jpg']\"],\n [{\n            'v': 3,\n            'f': \"3\",\n        },\n\"Taylor\",\n\"Seattle, WA\",\n\"Reviewed May 26, 2023\",\n{\n            'v': 5.0,\n            'f': \"5.0\",\n        },\n\"Me and my friend were at Starbucks and my card didn\\u2019t work. Thankful the worker there, paid for our drinks. And was very nice about it, it didn\\u2019t seem to bother him that he paid for our drinks. This made my day, but made me look like a fool because my card didn\\u2019t work. All thanks to Dillon. At Shoreline WA in Safeway. Thank you so much Dillon for the help, support and, kindness. I rate this 1000/10 if I could but, other than that, 10/10.\",\n\"['No Images']\"]],\n        columns: [[\"number\", \"index\"], [\"string\", \"name\"], [\"string\", \"location\"], [\"string\", \"Date\"], [\"number\", \"Rating\"], [\"string\", \"Review\"], [\"string\", \"Image_Links\"]],\n        columnOptions: [{\"width\": \"1px\", \"className\": \"index_column\"}],\n        rowsPerPage: 25,\n        helpUrl: \"https://colab.research.google.com/notebooks/data_table.ipynb\",\n        suppressOutputScrolling: true,\n        minimumWidth: undefined,\n      });\n\n      function appendQuickchartButton(parentElement) {\n        let quickchartButtonContainerElement = document.createElement('div');\n        quickchartButtonContainerElement.innerHTML = `\n<div id=\"df-b8bd942b-6743-4332-85a6-4232a54367aa\">\n  <button class=\"colab-df-quickchart\" onclick=\"quickchart('df-b8bd942b-6743-4332-85a6-4232a54367aa')\"\n            title=\"Suggest charts\"\n            style=\"display:none;\">\n    \n<svg xmlns=\"http://www.w3.org/2000/svg\" height=\"24px\"viewBox=\"0 0 24 24\"\n     width=\"24px\">\n    <g>\n        <path d=\"M19 3H5c-1.1 0-2 .9-2 2v14c0 1.1.9 2 2 2h14c1.1 0 2-.9 2-2V5c0-1.1-.9-2-2-2zM9 17H7v-7h2v7zm4 0h-2V7h2v10zm4 0h-2v-4h2v4z\"/>\n    </g>\n</svg>\n  </button>\n  \n<style>\n  .colab-df-quickchart {\n      --bg-color: #E8F0FE;\n      --fill-color: #1967D2;\n      --hover-bg-color: #E2EBFA;\n      --hover-fill-color: #174EA6;\n      --disabled-fill-color: #AAA;\n      --disabled-bg-color: #DDD;\n  }\n\n  [theme=dark] .colab-df-quickchart {\n      --bg-color: #3B4455;\n      --fill-color: #D2E3FC;\n      --hover-bg-color: #434B5C;\n      --hover-fill-color: #FFFFFF;\n      --disabled-bg-color: #3B4455;\n      --disabled-fill-color: #666;\n  }\n\n  .colab-df-quickchart {\n    background-color: var(--bg-color);\n    border: none;\n    border-radius: 50%;\n    cursor: pointer;\n    display: none;\n    fill: var(--fill-color);\n    height: 32px;\n    padding: 0;\n    width: 32px;\n  }\n\n  .colab-df-quickchart:hover {\n    background-color: var(--hover-bg-color);\n    box-shadow: 0 1px 2px rgba(60, 64, 67, 0.3), 0 1px 3px 1px rgba(60, 64, 67, 0.15);\n    fill: var(--button-hover-fill-color);\n  }\n\n  .colab-df-quickchart-complete:disabled,\n  .colab-df-quickchart-complete:disabled:hover {\n    background-color: var(--disabled-bg-color);\n    fill: var(--disabled-fill-color);\n    box-shadow: none;\n  }\n\n  .colab-df-spinner {\n    border: 2px solid var(--fill-color);\n    border-color: transparent;\n    border-bottom-color: var(--fill-color);\n    animation:\n      spin 1s steps(1) infinite;\n  }\n\n  @keyframes spin {\n    0% {\n      border-color: transparent;\n      border-bottom-color: var(--fill-color);\n      border-left-color: var(--fill-color);\n    }\n    20% {\n      border-color: transparent;\n      border-left-color: var(--fill-color);\n      border-top-color: var(--fill-color);\n    }\n    30% {\n      border-color: transparent;\n      border-left-color: var(--fill-color);\n      border-top-color: var(--fill-color);\n      border-right-color: var(--fill-color);\n    }\n    40% {\n      border-color: transparent;\n      border-right-color: var(--fill-color);\n      border-top-color: var(--fill-color);\n    }\n    60% {\n      border-color: transparent;\n      border-right-color: var(--fill-color);\n    }\n    80% {\n      border-color: transparent;\n      border-right-color: var(--fill-color);\n      border-bottom-color: var(--fill-color);\n    }\n    90% {\n      border-color: transparent;\n      border-bottom-color: var(--fill-color);\n    }\n  }\n</style>\n\n  <script>\n    async function quickchart(key) {\n      const quickchartButtonEl =\n        document.querySelector('#' + key + ' button');\n      quickchartButtonEl.disabled = true;  // To prevent multiple clicks.\n      quickchartButtonEl.classList.add('colab-df-spinner');\n      try {\n        const charts = await google.colab.kernel.invokeFunction(\n            'suggestCharts', [key], {});\n      } catch (error) {\n        console.error('Error during call to suggestCharts:', error);\n      }\n      quickchartButtonEl.classList.remove('colab-df-spinner');\n      quickchartButtonEl.classList.add('colab-df-quickchart-complete');\n    }\n    (() => {\n      let quickchartButtonEl =\n        document.querySelector('#df-b8bd942b-6743-4332-85a6-4232a54367aa button');\n      quickchartButtonEl.style.display =\n        google.colab.kernel.accessAllowed ? 'block' : 'none';\n    })();\n  </script>\n</div>`;\n        parentElement.appendChild(quickchartButtonContainerElement);\n      }\n\n      appendQuickchartButton(table);\n    ",
            "text/html": [
              "\n",
              "  <div id=\"df-98c0e2cb-7b8c-4d8d-9303-0a0919437089\" class=\"colab-df-container\">\n",
              "    <div>\n",
              "<style scoped>\n",
              "    .dataframe tbody tr th:only-of-type {\n",
              "        vertical-align: middle;\n",
              "    }\n",
              "\n",
              "    .dataframe tbody tr th {\n",
              "        vertical-align: top;\n",
              "    }\n",
              "\n",
              "    .dataframe thead th {\n",
              "        text-align: right;\n",
              "    }\n",
              "</style>\n",
              "<table border=\"1\" class=\"dataframe\">\n",
              "  <thead>\n",
              "    <tr style=\"text-align: right;\">\n",
              "      <th></th>\n",
              "      <th>name</th>\n",
              "      <th>location</th>\n",
              "      <th>Date</th>\n",
              "      <th>Rating</th>\n",
              "      <th>Review</th>\n",
              "      <th>Image_Links</th>\n",
              "    </tr>\n",
              "  </thead>\n",
              "  <tbody>\n",
              "    <tr>\n",
              "      <th>0</th>\n",
              "      <td>Helen</td>\n",
              "      <td>Wichita Falls, TX</td>\n",
              "      <td>Reviewed Sept. 13, 2023</td>\n",
              "      <td>5.0</td>\n",
              "      <td>Amber and LaDonna at the Starbucks on Southwes...</td>\n",
              "      <td>['No Images']</td>\n",
              "    </tr>\n",
              "    <tr>\n",
              "      <th>1</th>\n",
              "      <td>Courtney</td>\n",
              "      <td>Apopka, FL</td>\n",
              "      <td>Reviewed July 16, 2023</td>\n",
              "      <td>5.0</td>\n",
              "      <td>** at the Starbucks by the fire station on 436...</td>\n",
              "      <td>['No Images']</td>\n",
              "    </tr>\n",
              "    <tr>\n",
              "      <th>2</th>\n",
              "      <td>Daynelle</td>\n",
              "      <td>Cranberry Twp, PA</td>\n",
              "      <td>Reviewed July 5, 2023</td>\n",
              "      <td>5.0</td>\n",
              "      <td>I just wanted to go out of my way to recognize...</td>\n",
              "      <td>['https://media.consumeraffairs.com/files/cach...</td>\n",
              "    </tr>\n",
              "    <tr>\n",
              "      <th>3</th>\n",
              "      <td>Taylor</td>\n",
              "      <td>Seattle, WA</td>\n",
              "      <td>Reviewed May 26, 2023</td>\n",
              "      <td>5.0</td>\n",
              "      <td>Me and my friend were at Starbucks and my card...</td>\n",
              "      <td>['No Images']</td>\n",
              "    </tr>\n",
              "  </tbody>\n",
              "</table>\n",
              "</div>\n",
              "    <div class=\"colab-df-buttons\">\n",
              "\n",
              "  <div class=\"colab-df-container\">\n",
              "    <button class=\"colab-df-convert\" onclick=\"convertToInteractive('df-98c0e2cb-7b8c-4d8d-9303-0a0919437089')\"\n",
              "            title=\"Convert this dataframe to an interactive table.\"\n",
              "            style=\"display:none;\">\n",
              "\n",
              "  <svg xmlns=\"http://www.w3.org/2000/svg\" height=\"24px\" viewBox=\"0 -960 960 960\">\n",
              "    <path d=\"M120-120v-720h720v720H120Zm60-500h600v-160H180v160Zm220 220h160v-160H400v160Zm0 220h160v-160H400v160ZM180-400h160v-160H180v160Zm440 0h160v-160H620v160ZM180-180h160v-160H180v160Zm440 0h160v-160H620v160Z\"/>\n",
              "  </svg>\n",
              "    </button>\n",
              "\n",
              "  <style>\n",
              "    .colab-df-container {\n",
              "      display:flex;\n",
              "      gap: 12px;\n",
              "    }\n",
              "\n",
              "    .colab-df-convert {\n",
              "      background-color: #E8F0FE;\n",
              "      border: none;\n",
              "      border-radius: 50%;\n",
              "      cursor: pointer;\n",
              "      display: none;\n",
              "      fill: #1967D2;\n",
              "      height: 32px;\n",
              "      padding: 0 0 0 0;\n",
              "      width: 32px;\n",
              "    }\n",
              "\n",
              "    .colab-df-convert:hover {\n",
              "      background-color: #E2EBFA;\n",
              "      box-shadow: 0px 1px 2px rgba(60, 64, 67, 0.3), 0px 1px 3px 1px rgba(60, 64, 67, 0.15);\n",
              "      fill: #174EA6;\n",
              "    }\n",
              "\n",
              "    .colab-df-buttons div {\n",
              "      margin-bottom: 4px;\n",
              "    }\n",
              "\n",
              "    [theme=dark] .colab-df-convert {\n",
              "      background-color: #3B4455;\n",
              "      fill: #D2E3FC;\n",
              "    }\n",
              "\n",
              "    [theme=dark] .colab-df-convert:hover {\n",
              "      background-color: #434B5C;\n",
              "      box-shadow: 0px 1px 3px 1px rgba(0, 0, 0, 0.15);\n",
              "      filter: drop-shadow(0px 1px 2px rgba(0, 0, 0, 0.3));\n",
              "      fill: #FFFFFF;\n",
              "    }\n",
              "  </style>\n",
              "\n",
              "    <script>\n",
              "      const buttonEl =\n",
              "        document.querySelector('#df-98c0e2cb-7b8c-4d8d-9303-0a0919437089 button.colab-df-convert');\n",
              "      buttonEl.style.display =\n",
              "        google.colab.kernel.accessAllowed ? 'block' : 'none';\n",
              "\n",
              "      async function convertToInteractive(key) {\n",
              "        const element = document.querySelector('#df-98c0e2cb-7b8c-4d8d-9303-0a0919437089');\n",
              "        const dataTable =\n",
              "          await google.colab.kernel.invokeFunction('convertToInteractive',\n",
              "                                                    [key], {});\n",
              "        if (!dataTable) return;\n",
              "\n",
              "        const docLinkHtml = 'Like what you see? Visit the ' +\n",
              "          '<a target=\"_blank\" href=https://colab.research.google.com/notebooks/data_table.ipynb>data table notebook</a>'\n",
              "          + ' to learn more about interactive tables.';\n",
              "        element.innerHTML = '';\n",
              "        dataTable['output_type'] = 'display_data';\n",
              "        await google.colab.output.renderOutput(dataTable, element);\n",
              "        const docLink = document.createElement('div');\n",
              "        docLink.innerHTML = docLinkHtml;\n",
              "        element.appendChild(docLink);\n",
              "      }\n",
              "    </script>\n",
              "  </div>\n",
              "\n",
              "\n",
              "<div id=\"df-78cc64ce-1f3e-4e1b-9a0a-78fa677e38a2\">\n",
              "  <button class=\"colab-df-quickchart\" onclick=\"quickchart('df-78cc64ce-1f3e-4e1b-9a0a-78fa677e38a2')\"\n",
              "            title=\"Suggest charts\"\n",
              "            style=\"display:none;\">\n",
              "\n",
              "<svg xmlns=\"http://www.w3.org/2000/svg\" height=\"24px\"viewBox=\"0 0 24 24\"\n",
              "     width=\"24px\">\n",
              "    <g>\n",
              "        <path d=\"M19 3H5c-1.1 0-2 .9-2 2v14c0 1.1.9 2 2 2h14c1.1 0 2-.9 2-2V5c0-1.1-.9-2-2-2zM9 17H7v-7h2v7zm4 0h-2V7h2v10zm4 0h-2v-4h2v4z\"/>\n",
              "    </g>\n",
              "</svg>\n",
              "  </button>\n",
              "\n",
              "<style>\n",
              "  .colab-df-quickchart {\n",
              "      --bg-color: #E8F0FE;\n",
              "      --fill-color: #1967D2;\n",
              "      --hover-bg-color: #E2EBFA;\n",
              "      --hover-fill-color: #174EA6;\n",
              "      --disabled-fill-color: #AAA;\n",
              "      --disabled-bg-color: #DDD;\n",
              "  }\n",
              "\n",
              "  [theme=dark] .colab-df-quickchart {\n",
              "      --bg-color: #3B4455;\n",
              "      --fill-color: #D2E3FC;\n",
              "      --hover-bg-color: #434B5C;\n",
              "      --hover-fill-color: #FFFFFF;\n",
              "      --disabled-bg-color: #3B4455;\n",
              "      --disabled-fill-color: #666;\n",
              "  }\n",
              "\n",
              "  .colab-df-quickchart {\n",
              "    background-color: var(--bg-color);\n",
              "    border: none;\n",
              "    border-radius: 50%;\n",
              "    cursor: pointer;\n",
              "    display: none;\n",
              "    fill: var(--fill-color);\n",
              "    height: 32px;\n",
              "    padding: 0;\n",
              "    width: 32px;\n",
              "  }\n",
              "\n",
              "  .colab-df-quickchart:hover {\n",
              "    background-color: var(--hover-bg-color);\n",
              "    box-shadow: 0 1px 2px rgba(60, 64, 67, 0.3), 0 1px 3px 1px rgba(60, 64, 67, 0.15);\n",
              "    fill: var(--button-hover-fill-color);\n",
              "  }\n",
              "\n",
              "  .colab-df-quickchart-complete:disabled,\n",
              "  .colab-df-quickchart-complete:disabled:hover {\n",
              "    background-color: var(--disabled-bg-color);\n",
              "    fill: var(--disabled-fill-color);\n",
              "    box-shadow: none;\n",
              "  }\n",
              "\n",
              "  .colab-df-spinner {\n",
              "    border: 2px solid var(--fill-color);\n",
              "    border-color: transparent;\n",
              "    border-bottom-color: var(--fill-color);\n",
              "    animation:\n",
              "      spin 1s steps(1) infinite;\n",
              "  }\n",
              "\n",
              "  @keyframes spin {\n",
              "    0% {\n",
              "      border-color: transparent;\n",
              "      border-bottom-color: var(--fill-color);\n",
              "      border-left-color: var(--fill-color);\n",
              "    }\n",
              "    20% {\n",
              "      border-color: transparent;\n",
              "      border-left-color: var(--fill-color);\n",
              "      border-top-color: var(--fill-color);\n",
              "    }\n",
              "    30% {\n",
              "      border-color: transparent;\n",
              "      border-left-color: var(--fill-color);\n",
              "      border-top-color: var(--fill-color);\n",
              "      border-right-color: var(--fill-color);\n",
              "    }\n",
              "    40% {\n",
              "      border-color: transparent;\n",
              "      border-right-color: var(--fill-color);\n",
              "      border-top-color: var(--fill-color);\n",
              "    }\n",
              "    60% {\n",
              "      border-color: transparent;\n",
              "      border-right-color: var(--fill-color);\n",
              "    }\n",
              "    80% {\n",
              "      border-color: transparent;\n",
              "      border-right-color: var(--fill-color);\n",
              "      border-bottom-color: var(--fill-color);\n",
              "    }\n",
              "    90% {\n",
              "      border-color: transparent;\n",
              "      border-bottom-color: var(--fill-color);\n",
              "    }\n",
              "  }\n",
              "</style>\n",
              "\n",
              "  <script>\n",
              "    async function quickchart(key) {\n",
              "      const quickchartButtonEl =\n",
              "        document.querySelector('#' + key + ' button');\n",
              "      quickchartButtonEl.disabled = true;  // To prevent multiple clicks.\n",
              "      quickchartButtonEl.classList.add('colab-df-spinner');\n",
              "      try {\n",
              "        const charts = await google.colab.kernel.invokeFunction(\n",
              "            'suggestCharts', [key], {});\n",
              "      } catch (error) {\n",
              "        console.error('Error during call to suggestCharts:', error);\n",
              "      }\n",
              "      quickchartButtonEl.classList.remove('colab-df-spinner');\n",
              "      quickchartButtonEl.classList.add('colab-df-quickchart-complete');\n",
              "    }\n",
              "    (() => {\n",
              "      let quickchartButtonEl =\n",
              "        document.querySelector('#df-78cc64ce-1f3e-4e1b-9a0a-78fa677e38a2 button');\n",
              "      quickchartButtonEl.style.display =\n",
              "        google.colab.kernel.accessAllowed ? 'block' : 'none';\n",
              "    })();\n",
              "  </script>\n",
              "</div>\n",
              "    </div>\n",
              "  </div>\n"
            ],
            "text/plain": [
              "       name           location                     Date  Rating  \\\n",
              "0     Helen  Wichita Falls, TX  Reviewed Sept. 13, 2023     5.0   \n",
              "1  Courtney         Apopka, FL   Reviewed July 16, 2023     5.0   \n",
              "2  Daynelle  Cranberry Twp, PA    Reviewed July 5, 2023     5.0   \n",
              "3    Taylor        Seattle, WA    Reviewed May 26, 2023     5.0   \n",
              "\n",
              "                                              Review  \\\n",
              "0  Amber and LaDonna at the Starbucks on Southwes...   \n",
              "1  ** at the Starbucks by the fire station on 436...   \n",
              "2  I just wanted to go out of my way to recognize...   \n",
              "3  Me and my friend were at Starbucks and my card...   \n",
              "\n",
              "                                         Image_Links  \n",
              "0                                      ['No Images']  \n",
              "1                                      ['No Images']  \n",
              "2  ['https://media.consumeraffairs.com/files/cach...  \n",
              "3                                      ['No Images']  "
            ]
          },
          "execution_count": 102,
          "metadata": {},
          "output_type": "execute_result"
        }
      ],
      "source": [
        "data_frame.head(4)"
      ]
    },
    {
      "cell_type": "markdown",
      "metadata": {
        "id": "b32VQSK6w3Rn"
      },
      "source": [
        "# Now let's redact the frame"
      ]
    },
    {
      "cell_type": "code",
      "execution_count": null,
      "metadata": {
        "colab": {
          "base_uri": "https://localhost:8080/"
        },
        "id": "BchuOAEExDom",
        "outputId": "dfc48362-d5d4-4c33-f1a1-643a4746f7af"
      },
      "outputs": [
        {
          "name": "stdout",
          "output_type": "stream",
          "text": [
            "Requirement already satisfied: privateai_client in /usr/local/lib/python3.10/dist-packages (3.7.1)\n",
            "Requirement already satisfied: requests~=2.31.0 in /usr/local/lib/python3.10/dist-packages (from privateai_client) (2.31.0)\n",
            "Requirement already satisfied: charset-normalizer<4,>=2 in /usr/local/lib/python3.10/dist-packages (from requests~=2.31.0->privateai_client) (3.3.2)\n",
            "Requirement already satisfied: idna<4,>=2.5 in /usr/local/lib/python3.10/dist-packages (from requests~=2.31.0->privateai_client) (3.6)\n",
            "Requirement already satisfied: urllib3<3,>=1.21.1 in /usr/local/lib/python3.10/dist-packages (from requests~=2.31.0->privateai_client) (2.0.7)\n",
            "Requirement already satisfied: certifi>=2017.4.17 in /usr/local/lib/python3.10/dist-packages (from requests~=2.31.0->privateai_client) (2024.2.2)\n"
          ]
        }
      ],
      "source": [
        "!pip install privateai_client"
      ]
    },
    {
      "cell_type": "code",
      "execution_count": null,
      "metadata": {
        "id": "CeMlRb8ixHaL"
      },
      "outputs": [],
      "source": [
        "from privateai_client import PAIClient\n",
        "from privateai_client import request_objects\n",
        "import os\n",
        "import json\n",
        "import requests\n",
        "from google.colab import userdata\n",
        "api_key = userdata.get('PAI_API_KEY') #if you store your API keys in the userdata object in colab\n",
        "\n",
        "client = PAIClient(url=\"https://api.private-ai.com/deid/\", api_key=api_key)"
      ]
    },
    {
      "cell_type": "code",
      "execution_count": null,
      "metadata": {
        "id": "ecQOxOGqY-3e"
      },
      "outputs": [],
      "source": [
        "# Dates are important in many ML tasks so we will leave it in for this notebook\n",
        "sample_entity_type_selector = request_objects.entity_type_selector_obj(\n",
        "        type=\"DISABLE\", value= ['DATE'] \n",
        "        )"
      ]
    },
    {
      "cell_type": "code",
      "execution_count": null,
      "metadata": {
        "id": "b3AcL1MmZAPB"
      },
      "outputs": [],
      "source": [
        "proc_obj = request_objects.processed_text_obj(type=\"MARKER\", pattern=\"BEST_ENTITY_TYPE\")"
      ]
    },
    {
      "cell_type": "code",
      "execution_count": null,
      "metadata": {
        "id": "_Bu2D5OTZDXS"
      },
      "outputs": [],
      "source": [
        "text_req = request_objects.process_text_obj(\n",
        "    text=[], processed_text=proc_obj, entity_detection=sample_entity_type_selector\n",
        "    )"
      ]
    },
    {
      "cell_type": "code",
      "execution_count": null,
      "metadata": {
        "colab": {
          "base_uri": "https://localhost:8080/"
        },
        "id": "a8Tbuu0waZIf",
        "outputId": "fa027844-6f2c-47f3-a032-6a0647b323fb"
      },
      "outputs": [
        {
          "data": {
            "text/plain": [
              "<privateai_client.components.request_objects.ProcessedText at 0x79c1af923fd0>"
            ]
          },
          "execution_count": 108,
          "metadata": {},
          "output_type": "execute_result"
        }
      ],
      "source": [
        "request_objects.processed_text_obj()"
      ]
    },
    {
      "cell_type": "code",
      "execution_count": null,
      "metadata": {
        "id": "3h6VrtRZg7Vt"
      },
      "outputs": [],
      "source": [
        "# Here we are going to disable some redaction.\n",
        "# Since the Starbucks management surely wants to know if there are any specific locations that have worse scores than others \n",
        "# we will not redact organizations, locations, or addresses\n",
        "\n",
        "proc_obj = request_objects.processed_text_obj(type=\"MARKER\", pattern=\"BEST_ENTITY_TYPE\")\n",
        "entity_type_selector = request_objects.entity_type_selector_obj(type=\"DISABLE\", value=['ORGANIZATION','LOCATION','LOCATION_ADDRESS', 'LOCATION_STATE','LOCATION_CITY','DATE'])\n",
        "entity_detection = request_objects.entity_detection_obj(entity_types=[entity_type_selector])\n",
        "text_req = request_objects.process_text_obj(\n",
        "    text=[], processed_text=proc_obj, entity_detection=entity_detection\n",
        "    )\n",
        "\n",
        "for column in data_frame.columns:\n",
        "    text_req.text.append(f\"{column}:{' | '.join([str(row) for row in data_frame[column]])}\")\n",
        "\n",
        "resp = client.process_text(text_req)\n",
        "redacted_data = dict()\n",
        "for row in resp.processed_text:\n",
        "    data = row.split(':',1)\n",
        "    redacted_data[data[0]] = data[1].split(' | ')\n",
        "redacted_data_frame = pd.DataFrame(redacted_data)"
      ]
    },
    {
      "cell_type": "markdown",
      "metadata": {},
      "source": [
        "## Redacted Dataframe\n",
        "\n",
        "After redaction, you can clearly see that the PII in the comments has been removed! Now this dataset can be safely used training custom ML models without the risk of memorizing PII :)"
      ]
    },
    {
      "cell_type": "code",
      "execution_count": null,
      "metadata": {
        "colab": {
          "base_uri": "https://localhost:8080/",
          "height": 427
        },
        "id": "Yb6pjuG1xQLC",
        "outputId": "4f26f1cd-74db-46b9-fe76-042eb79d837a"
      },
      "outputs": [
        {
          "data": {
            "application/vnd.google.colaboratory.intrinsic+json": {
              "summary": "{\n  \"name\": \"redacted_data_frame\",\n  \"rows\": 850,\n  \"fields\": [\n    {\n      \"column\": \"name\",\n      \"properties\": {\n        \"dtype\": \"category\",\n        \"samples\": [\n          \"NAME_GIVEN \",\n          \"NAME_GIVEN\",\n          \"Anonymous\"\n        ],\n        \"num_unique_values\": 11,\n        \"semantic_type\": \"\",\n        \"description\": \"\"\n      }\n    },\n    {\n      \"column\": \"location\",\n      \"properties\": {\n        \"dtype\": \"string\",\n        \"samples\": [\n          \"Flossmoor, IL\",\n          \"Albuquerque, NM\",\n          \"Claremont, CA\"\n        ],\n        \"num_unique_values\": 632,\n        \"semantic_type\": \"\",\n        \"description\": \"\"\n      }\n    },\n    {\n      \"column\": \"Date\",\n      \"properties\": {\n        \"dtype\": \"string\",\n        \"samples\": [\n          \"Reviewed Sept. 23, 2020\",\n          \"Reviewed Dec. 7, 2018\",\n          \"Reviewed Oct. 14, 2016\"\n        ],\n        \"num_unique_values\": 741,\n        \"semantic_type\": \"\",\n        \"description\": \"\"\n      }\n    },\n    {\n      \"column\": \"Rating\",\n      \"properties\": {\n        \"dtype\": \"category\",\n        \"samples\": [\n          \"5.0\",\n          \"1.0\",\n          \"nan\"\n        ],\n        \"num_unique_values\": 6,\n        \"semantic_type\": \"\",\n        \"description\": \"\"\n      }\n    },\n    {\n      \"column\": \"Review\",\n      \"properties\": {\n        \"dtype\": \"string\",\n        \"samples\": [\n          \"I was in the drive thru at the Barranca Ave. West Covina Starbucks yesterday at TIME. I was picking up 3 grande ice tea for OCCUPATION at a nearby high school baseball game. I asked to have each ring up separately. I was told that there is a limit of 2 transactions at the drive thru??? Funny, a week earlier I ordered 4 separate orders at the same drive thru without any trouble? The car in front of me had 4 separate transactions as I watched the customer have her phone scanned 4 separate times?\",\n          \"I ordered trente Valencia orange drinks with no ice and she gave me two one half cup fills of drink. When I told her this was not right, she said that is what her OCCUPATION told her to do. I would have to fill the cup totally full if ice for this drink to go to top of cup. The drinks cost MONEY and you get a little drink with your ice and cup. Their lemon pound is stale everyday but one out of the week.\",\n          \"This company has earned its popularity by maintaining a great quality business. Starbucks holds a welcoming environment, is widely available, and serves a variety of menu options. Starbucks has a unique, modern style. Starbucks creates a place fitting to the environment, giving them a truly natural and positive vibe. Locals are most likely to feel at home at their surrounding locations. The employees at every location always fit in perfectly as well. The alternative styles and quirky personalities of Starbucks employees make for authentic coffeehouse vibes. \"\n        ],\n        \"num_unique_values\": 814,\n        \"semantic_type\": \"\",\n        \"description\": \"\"\n      }\n    },\n    {\n      \"column\": \"Image_Links\",\n      \"properties\": {\n        \"dtype\": \"category\",\n        \"samples\": [\n          \"['No Images']\",\n          \"['URL']\",\n          \"['URL', 'URL', 'URL', 'URL']\"\n        ],\n        \"num_unique_values\": 6,\n        \"semantic_type\": \"\",\n        \"description\": \"\"\n      }\n    }\n  ]\n}",
              "type": "dataframe",
              "variable_name": "redacted_data_frame"
            },
            "application/vnd.google.colaboratory.module+javascript": "\n      import \"https://ssl.gstatic.com/colaboratory/data_table/881c4a0d49046431/data_table.js\";\n\n      const table = window.createDataTable({\n        data: [[{\n            'v': 0,\n            'f': \"0\",\n        },\n\"NAME_GIVEN\",\n\"Wichita Falls, TX\",\n\"Reviewed Sept. 13, 2023\",\n\"5.0\",\n\"NAME_GIVEN and NAME_GIVEN at the Starbucks on Southwest Parkway are always so warm and welcoming. There is always a smile in their voice when they greet you at the drive-thru. And their customer service is always spot-on, they always get my order right and with a smile. I would actually give them more than 5 stars if they were available.\",\n\"['No Images']\"],\n [{\n            'v': 1,\n            'f': \"1\",\n        },\n\"NAME_GIVEN\",\n\"Apopka, FL\",\n\"Reviewed July 16, 2023\",\n\"5.0\",\n\"** at the Starbucks by the fire station on 436 in Altamonte Springs, FL made my day and finally helped me figure out the way to make my drink so I\\u2019d love it. She took time out to talk to me for DURATION to make my experience better than what I\\u2019m used to. It was much appreciated! I\\u2019ve had bad experiences one after another at the Starbucks that\\u2019s closest to me in my work building with my drinks not being great along with not great customer service from specific OCCUPATION. NAME_GIVEN was refreshing to speak to and pleasant. The drink was perfect! Store USERNAME\",\n\"['No Images']\"],\n [{\n            'v': 2,\n            'f': \"2\",\n        },\n\"NAME_GIVEN\",\n\"Cranberry Twp, PA\",\n\"Reviewed July 5, 2023\",\n\"5.0\",\n\"I just wanted to go out of my way to recognize a Starbucks employee NAME_GIVEN at the Franklin Park location! I was running late to work & placed an order at the wrong location and not only did he make my order with a smile he made it within DURATION! Thank you SOO much I was having a bad morning and people like you just make this world a better place.\",\n\"['URL']\"],\n [{\n            'v': 3,\n            'f': \"3\",\n        },\n\"NAME_GIVEN\",\n\"Seattle, WA\",\n\"Reviewed May 26, 2023\",\n\"5.0\",\n\"Me and my friend were at Starbucks and my card didn\\u2019t work. Thankful the workOCCUPATION there, paid for our drinks. And was very nice about it, it didn\\u2019t seem to bother him that he paid for our drinks. This made my day, but made me look like a fool because my card didn\\u2019t work. All thanks to NAME_GIVEN. At Shoreline WA in Safeway. Thank you so much NAME_GIVEN for the help, support and, kindness. I rate this 1000/10 if I could but, other than that, 10/10.\",\n\"['No Images']\"],\n [{\n            'v': 4,\n            'f': \"4\",\n        },\n\"NAME_GIVEN\",\n\"Gresham, OR\",\n\"Reviewed Jan. 22, 2023\",\n\"5.0\",\n\"I\\u2019m on this kick of drinking 5 cups of warm water. I work for Instacart right now and every location of Starbucks I was given free hot water because I asked for it without being charged. I really appreciate Starbucks for giving me the opportunity to do such thing. That\\u2019s why I give them five stars. They fully have my support. They\\u2019re super nice and professional and the coffee is great. Go to Starbucks.\",\n\"['URL', 'URL']\"]],\n        columns: [[\"number\", \"index\"], [\"string\", \"name\"], [\"string\", \"location\"], [\"string\", \"Date\"], [\"string\", \"Rating\"], [\"string\", \"Review\"], [\"string\", \"Image_Links\"]],\n        columnOptions: [{\"width\": \"1px\", \"className\": \"index_column\"}],\n        rowsPerPage: 25,\n        helpUrl: \"https://colab.research.google.com/notebooks/data_table.ipynb\",\n        suppressOutputScrolling: true,\n        minimumWidth: undefined,\n      });\n\n      function appendQuickchartButton(parentElement) {\n        let quickchartButtonContainerElement = document.createElement('div');\n        quickchartButtonContainerElement.innerHTML = `\n<div id=\"df-9f040ad0-db3a-464c-ad39-b4a24fbf956c\">\n  <button class=\"colab-df-quickchart\" onclick=\"quickchart('df-9f040ad0-db3a-464c-ad39-b4a24fbf956c')\"\n            title=\"Suggest charts\"\n            style=\"display:none;\">\n    \n<svg xmlns=\"http://www.w3.org/2000/svg\" height=\"24px\"viewBox=\"0 0 24 24\"\n     width=\"24px\">\n    <g>\n        <path d=\"M19 3H5c-1.1 0-2 .9-2 2v14c0 1.1.9 2 2 2h14c1.1 0 2-.9 2-2V5c0-1.1-.9-2-2-2zM9 17H7v-7h2v7zm4 0h-2V7h2v10zm4 0h-2v-4h2v4z\"/>\n    </g>\n</svg>\n  </button>\n  \n<style>\n  .colab-df-quickchart {\n      --bg-color: #E8F0FE;\n      --fill-color: #1967D2;\n      --hover-bg-color: #E2EBFA;\n      --hover-fill-color: #174EA6;\n      --disabled-fill-color: #AAA;\n      --disabled-bg-color: #DDD;\n  }\n\n  [theme=dark] .colab-df-quickchart {\n      --bg-color: #3B4455;\n      --fill-color: #D2E3FC;\n      --hover-bg-color: #434B5C;\n      --hover-fill-color: #FFFFFF;\n      --disabled-bg-color: #3B4455;\n      --disabled-fill-color: #666;\n  }\n\n  .colab-df-quickchart {\n    background-color: var(--bg-color);\n    border: none;\n    border-radius: 50%;\n    cursor: pointer;\n    display: none;\n    fill: var(--fill-color);\n    height: 32px;\n    padding: 0;\n    width: 32px;\n  }\n\n  .colab-df-quickchart:hover {\n    background-color: var(--hover-bg-color);\n    box-shadow: 0 1px 2px rgba(60, 64, 67, 0.3), 0 1px 3px 1px rgba(60, 64, 67, 0.15);\n    fill: var(--button-hover-fill-color);\n  }\n\n  .colab-df-quickchart-complete:disabled,\n  .colab-df-quickchart-complete:disabled:hover {\n    background-color: var(--disabled-bg-color);\n    fill: var(--disabled-fill-color);\n    box-shadow: none;\n  }\n\n  .colab-df-spinner {\n    border: 2px solid var(--fill-color);\n    border-color: transparent;\n    border-bottom-color: var(--fill-color);\n    animation:\n      spin 1s steps(1) infinite;\n  }\n\n  @keyframes spin {\n    0% {\n      border-color: transparent;\n      border-bottom-color: var(--fill-color);\n      border-left-color: var(--fill-color);\n    }\n    20% {\n      border-color: transparent;\n      border-left-color: var(--fill-color);\n      border-top-color: var(--fill-color);\n    }\n    30% {\n      border-color: transparent;\n      border-left-color: var(--fill-color);\n      border-top-color: var(--fill-color);\n      border-right-color: var(--fill-color);\n    }\n    40% {\n      border-color: transparent;\n      border-right-color: var(--fill-color);\n      border-top-color: var(--fill-color);\n    }\n    60% {\n      border-color: transparent;\n      border-right-color: var(--fill-color);\n    }\n    80% {\n      border-color: transparent;\n      border-right-color: var(--fill-color);\n      border-bottom-color: var(--fill-color);\n    }\n    90% {\n      border-color: transparent;\n      border-bottom-color: var(--fill-color);\n    }\n  }\n</style>\n\n  <script>\n    async function quickchart(key) {\n      const quickchartButtonEl =\n        document.querySelector('#' + key + ' button');\n      quickchartButtonEl.disabled = true;  // To prevent multiple clicks.\n      quickchartButtonEl.classList.add('colab-df-spinner');\n      try {\n        const charts = await google.colab.kernel.invokeFunction(\n            'suggestCharts', [key], {});\n      } catch (error) {\n        console.error('Error during call to suggestCharts:', error);\n      }\n      quickchartButtonEl.classList.remove('colab-df-spinner');\n      quickchartButtonEl.classList.add('colab-df-quickchart-complete');\n    }\n    (() => {\n      let quickchartButtonEl =\n        document.querySelector('#df-9f040ad0-db3a-464c-ad39-b4a24fbf956c button');\n      quickchartButtonEl.style.display =\n        google.colab.kernel.accessAllowed ? 'block' : 'none';\n    })();\n  </script>\n</div>`;\n        parentElement.appendChild(quickchartButtonContainerElement);\n      }\n\n      appendQuickchartButton(table);\n    ",
            "text/html": [
              "\n",
              "  <div id=\"df-8f1a3e34-da42-470e-a817-ea44f7341faf\" class=\"colab-df-container\">\n",
              "    <div>\n",
              "<style scoped>\n",
              "    .dataframe tbody tr th:only-of-type {\n",
              "        vertical-align: middle;\n",
              "    }\n",
              "\n",
              "    .dataframe tbody tr th {\n",
              "        vertical-align: top;\n",
              "    }\n",
              "\n",
              "    .dataframe thead th {\n",
              "        text-align: right;\n",
              "    }\n",
              "</style>\n",
              "<table border=\"1\" class=\"dataframe\">\n",
              "  <thead>\n",
              "    <tr style=\"text-align: right;\">\n",
              "      <th></th>\n",
              "      <th>name</th>\n",
              "      <th>location</th>\n",
              "      <th>Date</th>\n",
              "      <th>Rating</th>\n",
              "      <th>Review</th>\n",
              "      <th>Image_Links</th>\n",
              "    </tr>\n",
              "  </thead>\n",
              "  <tbody>\n",
              "    <tr>\n",
              "      <th>0</th>\n",
              "      <td>NAME_GIVEN</td>\n",
              "      <td>Wichita Falls, TX</td>\n",
              "      <td>Reviewed Sept. 13, 2023</td>\n",
              "      <td>5.0</td>\n",
              "      <td>NAME_GIVEN and NAME_GIVEN at the Starbucks on ...</td>\n",
              "      <td>['No Images']</td>\n",
              "    </tr>\n",
              "    <tr>\n",
              "      <th>1</th>\n",
              "      <td>NAME_GIVEN</td>\n",
              "      <td>Apopka, FL</td>\n",
              "      <td>Reviewed July 16, 2023</td>\n",
              "      <td>5.0</td>\n",
              "      <td>** at the Starbucks by the fire station on 436...</td>\n",
              "      <td>['No Images']</td>\n",
              "    </tr>\n",
              "    <tr>\n",
              "      <th>2</th>\n",
              "      <td>NAME_GIVEN</td>\n",
              "      <td>Cranberry Twp, PA</td>\n",
              "      <td>Reviewed July 5, 2023</td>\n",
              "      <td>5.0</td>\n",
              "      <td>I just wanted to go out of my way to recognize...</td>\n",
              "      <td>['URL']</td>\n",
              "    </tr>\n",
              "    <tr>\n",
              "      <th>3</th>\n",
              "      <td>NAME_GIVEN</td>\n",
              "      <td>Seattle, WA</td>\n",
              "      <td>Reviewed May 26, 2023</td>\n",
              "      <td>5.0</td>\n",
              "      <td>Me and my friend were at Starbucks and my card...</td>\n",
              "      <td>['No Images']</td>\n",
              "    </tr>\n",
              "    <tr>\n",
              "      <th>4</th>\n",
              "      <td>NAME_GIVEN</td>\n",
              "      <td>Gresham, OR</td>\n",
              "      <td>Reviewed Jan. 22, 2023</td>\n",
              "      <td>5.0</td>\n",
              "      <td>I’m on this kick of drinking 5 cups of warm wa...</td>\n",
              "      <td>['URL', 'URL']</td>\n",
              "    </tr>\n",
              "  </tbody>\n",
              "</table>\n",
              "</div>\n",
              "    <div class=\"colab-df-buttons\">\n",
              "\n",
              "  <div class=\"colab-df-container\">\n",
              "    <button class=\"colab-df-convert\" onclick=\"convertToInteractive('df-8f1a3e34-da42-470e-a817-ea44f7341faf')\"\n",
              "            title=\"Convert this dataframe to an interactive table.\"\n",
              "            style=\"display:none;\">\n",
              "\n",
              "  <svg xmlns=\"http://www.w3.org/2000/svg\" height=\"24px\" viewBox=\"0 -960 960 960\">\n",
              "    <path d=\"M120-120v-720h720v720H120Zm60-500h600v-160H180v160Zm220 220h160v-160H400v160Zm0 220h160v-160H400v160ZM180-400h160v-160H180v160Zm440 0h160v-160H620v160ZM180-180h160v-160H180v160Zm440 0h160v-160H620v160Z\"/>\n",
              "  </svg>\n",
              "    </button>\n",
              "\n",
              "  <style>\n",
              "    .colab-df-container {\n",
              "      display:flex;\n",
              "      gap: 12px;\n",
              "    }\n",
              "\n",
              "    .colab-df-convert {\n",
              "      background-color: #E8F0FE;\n",
              "      border: none;\n",
              "      border-radius: 50%;\n",
              "      cursor: pointer;\n",
              "      display: none;\n",
              "      fill: #1967D2;\n",
              "      height: 32px;\n",
              "      padding: 0 0 0 0;\n",
              "      width: 32px;\n",
              "    }\n",
              "\n",
              "    .colab-df-convert:hover {\n",
              "      background-color: #E2EBFA;\n",
              "      box-shadow: 0px 1px 2px rgba(60, 64, 67, 0.3), 0px 1px 3px 1px rgba(60, 64, 67, 0.15);\n",
              "      fill: #174EA6;\n",
              "    }\n",
              "\n",
              "    .colab-df-buttons div {\n",
              "      margin-bottom: 4px;\n",
              "    }\n",
              "\n",
              "    [theme=dark] .colab-df-convert {\n",
              "      background-color: #3B4455;\n",
              "      fill: #D2E3FC;\n",
              "    }\n",
              "\n",
              "    [theme=dark] .colab-df-convert:hover {\n",
              "      background-color: #434B5C;\n",
              "      box-shadow: 0px 1px 3px 1px rgba(0, 0, 0, 0.15);\n",
              "      filter: drop-shadow(0px 1px 2px rgba(0, 0, 0, 0.3));\n",
              "      fill: #FFFFFF;\n",
              "    }\n",
              "  </style>\n",
              "\n",
              "    <script>\n",
              "      const buttonEl =\n",
              "        document.querySelector('#df-8f1a3e34-da42-470e-a817-ea44f7341faf button.colab-df-convert');\n",
              "      buttonEl.style.display =\n",
              "        google.colab.kernel.accessAllowed ? 'block' : 'none';\n",
              "\n",
              "      async function convertToInteractive(key) {\n",
              "        const element = document.querySelector('#df-8f1a3e34-da42-470e-a817-ea44f7341faf');\n",
              "        const dataTable =\n",
              "          await google.colab.kernel.invokeFunction('convertToInteractive',\n",
              "                                                    [key], {});\n",
              "        if (!dataTable) return;\n",
              "\n",
              "        const docLinkHtml = 'Like what you see? Visit the ' +\n",
              "          '<a target=\"_blank\" href=https://colab.research.google.com/notebooks/data_table.ipynb>data table notebook</a>'\n",
              "          + ' to learn more about interactive tables.';\n",
              "        element.innerHTML = '';\n",
              "        dataTable['output_type'] = 'display_data';\n",
              "        await google.colab.output.renderOutput(dataTable, element);\n",
              "        const docLink = document.createElement('div');\n",
              "        docLink.innerHTML = docLinkHtml;\n",
              "        element.appendChild(docLink);\n",
              "      }\n",
              "    </script>\n",
              "  </div>\n",
              "\n",
              "\n",
              "<div id=\"df-26946d7c-d4a4-4c67-ae12-5450527b927b\">\n",
              "  <button class=\"colab-df-quickchart\" onclick=\"quickchart('df-26946d7c-d4a4-4c67-ae12-5450527b927b')\"\n",
              "            title=\"Suggest charts\"\n",
              "            style=\"display:none;\">\n",
              "\n",
              "<svg xmlns=\"http://www.w3.org/2000/svg\" height=\"24px\"viewBox=\"0 0 24 24\"\n",
              "     width=\"24px\">\n",
              "    <g>\n",
              "        <path d=\"M19 3H5c-1.1 0-2 .9-2 2v14c0 1.1.9 2 2 2h14c1.1 0 2-.9 2-2V5c0-1.1-.9-2-2-2zM9 17H7v-7h2v7zm4 0h-2V7h2v10zm4 0h-2v-4h2v4z\"/>\n",
              "    </g>\n",
              "</svg>\n",
              "  </button>\n",
              "\n",
              "<style>\n",
              "  .colab-df-quickchart {\n",
              "      --bg-color: #E8F0FE;\n",
              "      --fill-color: #1967D2;\n",
              "      --hover-bg-color: #E2EBFA;\n",
              "      --hover-fill-color: #174EA6;\n",
              "      --disabled-fill-color: #AAA;\n",
              "      --disabled-bg-color: #DDD;\n",
              "  }\n",
              "\n",
              "  [theme=dark] .colab-df-quickchart {\n",
              "      --bg-color: #3B4455;\n",
              "      --fill-color: #D2E3FC;\n",
              "      --hover-bg-color: #434B5C;\n",
              "      --hover-fill-color: #FFFFFF;\n",
              "      --disabled-bg-color: #3B4455;\n",
              "      --disabled-fill-color: #666;\n",
              "  }\n",
              "\n",
              "  .colab-df-quickchart {\n",
              "    background-color: var(--bg-color);\n",
              "    border: none;\n",
              "    border-radius: 50%;\n",
              "    cursor: pointer;\n",
              "    display: none;\n",
              "    fill: var(--fill-color);\n",
              "    height: 32px;\n",
              "    padding: 0;\n",
              "    width: 32px;\n",
              "  }\n",
              "\n",
              "  .colab-df-quickchart:hover {\n",
              "    background-color: var(--hover-bg-color);\n",
              "    box-shadow: 0 1px 2px rgba(60, 64, 67, 0.3), 0 1px 3px 1px rgba(60, 64, 67, 0.15);\n",
              "    fill: var(--button-hover-fill-color);\n",
              "  }\n",
              "\n",
              "  .colab-df-quickchart-complete:disabled,\n",
              "  .colab-df-quickchart-complete:disabled:hover {\n",
              "    background-color: var(--disabled-bg-color);\n",
              "    fill: var(--disabled-fill-color);\n",
              "    box-shadow: none;\n",
              "  }\n",
              "\n",
              "  .colab-df-spinner {\n",
              "    border: 2px solid var(--fill-color);\n",
              "    border-color: transparent;\n",
              "    border-bottom-color: var(--fill-color);\n",
              "    animation:\n",
              "      spin 1s steps(1) infinite;\n",
              "  }\n",
              "\n",
              "  @keyframes spin {\n",
              "    0% {\n",
              "      border-color: transparent;\n",
              "      border-bottom-color: var(--fill-color);\n",
              "      border-left-color: var(--fill-color);\n",
              "    }\n",
              "    20% {\n",
              "      border-color: transparent;\n",
              "      border-left-color: var(--fill-color);\n",
              "      border-top-color: var(--fill-color);\n",
              "    }\n",
              "    30% {\n",
              "      border-color: transparent;\n",
              "      border-left-color: var(--fill-color);\n",
              "      border-top-color: var(--fill-color);\n",
              "      border-right-color: var(--fill-color);\n",
              "    }\n",
              "    40% {\n",
              "      border-color: transparent;\n",
              "      border-right-color: var(--fill-color);\n",
              "      border-top-color: var(--fill-color);\n",
              "    }\n",
              "    60% {\n",
              "      border-color: transparent;\n",
              "      border-right-color: var(--fill-color);\n",
              "    }\n",
              "    80% {\n",
              "      border-color: transparent;\n",
              "      border-right-color: var(--fill-color);\n",
              "      border-bottom-color: var(--fill-color);\n",
              "    }\n",
              "    90% {\n",
              "      border-color: transparent;\n",
              "      border-bottom-color: var(--fill-color);\n",
              "    }\n",
              "  }\n",
              "</style>\n",
              "\n",
              "  <script>\n",
              "    async function quickchart(key) {\n",
              "      const quickchartButtonEl =\n",
              "        document.querySelector('#' + key + ' button');\n",
              "      quickchartButtonEl.disabled = true;  // To prevent multiple clicks.\n",
              "      quickchartButtonEl.classList.add('colab-df-spinner');\n",
              "      try {\n",
              "        const charts = await google.colab.kernel.invokeFunction(\n",
              "            'suggestCharts', [key], {});\n",
              "      } catch (error) {\n",
              "        console.error('Error during call to suggestCharts:', error);\n",
              "      }\n",
              "      quickchartButtonEl.classList.remove('colab-df-spinner');\n",
              "      quickchartButtonEl.classList.add('colab-df-quickchart-complete');\n",
              "    }\n",
              "    (() => {\n",
              "      let quickchartButtonEl =\n",
              "        document.querySelector('#df-26946d7c-d4a4-4c67-ae12-5450527b927b button');\n",
              "      quickchartButtonEl.style.display =\n",
              "        google.colab.kernel.accessAllowed ? 'block' : 'none';\n",
              "    })();\n",
              "  </script>\n",
              "</div>\n",
              "    </div>\n",
              "  </div>\n"
            ],
            "text/plain": [
              "         name           location                     Date Rating  \\\n",
              "0  NAME_GIVEN  Wichita Falls, TX  Reviewed Sept. 13, 2023    5.0   \n",
              "1  NAME_GIVEN         Apopka, FL   Reviewed July 16, 2023    5.0   \n",
              "2  NAME_GIVEN  Cranberry Twp, PA    Reviewed July 5, 2023    5.0   \n",
              "3  NAME_GIVEN        Seattle, WA    Reviewed May 26, 2023    5.0   \n",
              "4  NAME_GIVEN        Gresham, OR   Reviewed Jan. 22, 2023    5.0   \n",
              "\n",
              "                                              Review     Image_Links  \n",
              "0  NAME_GIVEN and NAME_GIVEN at the Starbucks on ...   ['No Images']  \n",
              "1  ** at the Starbucks by the fire station on 436...   ['No Images']  \n",
              "2  I just wanted to go out of my way to recognize...         ['URL']  \n",
              "3  Me and my friend were at Starbucks and my card...   ['No Images']  \n",
              "4  I’m on this kick of drinking 5 cups of warm wa...  ['URL', 'URL']  "
            ]
          },
          "execution_count": 110,
          "metadata": {},
          "output_type": "execute_result"
        }
      ],
      "source": [
        "redacted_data_frame.head(5)"
      ]
    },
    {
      "cell_type": "markdown",
      "metadata": {
        "id": "Ef-wfdrDdjYJ"
      },
      "source": [
        "# PII Safe Sentiment Analysis\n",
        "\n",
        "Now that we have a redaced dataframe, we can run a sentiment analysis without including the names of the people involved"
      ]
    },
    {
      "cell_type": "code",
      "execution_count": null,
      "metadata": {
        "id": "roSPAAchdi1M"
      },
      "outputs": [],
      "source": [
        "from transformers import AutoModelForSequenceClassification\n",
        "from transformers import TFAutoModelForSequenceClassification\n",
        "from transformers import AutoTokenizer, AutoConfig\n",
        "import numpy as np\n",
        "from scipy.special import softmax"
      ]
    },
    {
      "cell_type": "code",
      "execution_count": null,
      "metadata": {
        "colab": {
          "base_uri": "https://localhost:8080/",
          "height": 71
        },
        "id": "2IdmLcTbf_Np",
        "outputId": "e338be77-fd27-46ff-c9e1-a7be4d428d9c"
      },
      "outputs": [
        {
          "data": {
            "application/vnd.google.colaboratory.intrinsic+json": {
              "type": "string"
            },
            "text/plain": [
              "'Amber and LaDonna at the Starbucks on Southwest Parkway are always so warm and welcoming. There is always a smile in their voice when they greet you at the drive-thru. And their customer service is always spot-on, they always get my order right and with a smile. I would actually give them more than 5 stars if they were available.'"
            ]
          },
          "execution_count": 112,
          "metadata": {},
          "output_type": "execute_result"
        }
      ],
      "source": [
        "data_frame.iloc[0][4]"
      ]
    },
    {
      "cell_type": "code",
      "execution_count": null,
      "metadata": {
        "colab": {
          "base_uri": "https://localhost:8080/",
          "height": 71
        },
        "id": "-2740cIDmZMk",
        "outputId": "712ffdde-6cb6-4078-c8e9-811d82cfc9f2"
      },
      "outputs": [
        {
          "data": {
            "application/vnd.google.colaboratory.intrinsic+json": {
              "type": "string"
            },
            "text/plain": [
              "'NAME_GIVEN and NAME_GIVEN at the Starbucks on Southwest Parkway are always so warm and welcoming. There is always a smile in their voice when they greet you at the drive-thru. And their customer service is always spot-on, they always get my order right and with a smile. I would actually give them more than 5 stars if they were available.'"
            ]
          },
          "execution_count": 113,
          "metadata": {},
          "output_type": "execute_result"
        }
      ],
      "source": [
        "redacted_data_frame.iloc[0][4]"
      ]
    },
    {
      "cell_type": "markdown",
      "metadata": {},
      "source": [
        "## Call Hugging Face for a Quick sentiment analysis"
      ]
    },
    {
      "cell_type": "code",
      "execution_count": null,
      "metadata": {
        "id": "tVT_qhZOtYe7"
      },
      "outputs": [],
      "source": [
        "import requests\n",
        "from google.colab import userdata\n",
        "hf_token = userdata.get('HF_TOKEN')\n",
        "\n",
        "def get_sentiment(text):\n",
        "    API_URL = \"https://api-inference.huggingface.co/models/cardiffnlp/twitter-roberta-base-sentiment-latest\"\n",
        "    headers = {\"Authorization\": f'Bearer {hf_token}'}\n",
        "\n",
        "    def query(payload):\n",
        "        response = requests.post(API_URL, headers=headers, json=payload)\n",
        "        return response.json()\n",
        "\n",
        "    output = query({\n",
        "\t    \"inputs\": text,\n",
        "    })\n",
        "    return output"
      ]
    },
    {
      "cell_type": "code",
      "execution_count": null,
      "metadata": {
        "colab": {
          "base_uri": "https://localhost:8080/"
        },
        "id": "Hu-vG9DFduVl",
        "outputId": "222783ce-fce7-4ee2-8b3a-2d3f410f9548"
      },
      "outputs": [
        {
          "name": "stdout",
          "output_type": "stream",
          "text": [
            "[[{'label': 'positive', 'score': 0.9743512868881226}, {'label': 'neutral', 'score': 0.02006211131811142}, {'label': 'negative', 'score': 0.005586681421846151}]]\n"
          ]
        }
      ],
      "source": [
        "print(get_sentiment(data_frame.iloc[0][4]))"
      ]
    },
    {
      "cell_type": "code",
      "execution_count": null,
      "metadata": {
        "colab": {
          "base_uri": "https://localhost:8080/"
        },
        "id": "Qyx2IiYhzJJM",
        "outputId": "496ad881-24b4-4314-8be9-d29a750cfd4e"
      },
      "outputs": [
        {
          "name": "stdout",
          "output_type": "stream",
          "text": [
            "[[{'label': 'positive', 'score': 0.9751478433609009}, {'label': 'neutral', 'score': 0.019699547439813614}, {'label': 'negative', 'score': 0.005152557976543903}]]\n"
          ]
        }
      ],
      "source": [
        "print(get_sentiment(redacted_data_frame.iloc[0][4]))"
      ]
    },
    {
      "cell_type": "markdown",
      "metadata": {},
      "source": [
        "# Wrapping Up\n",
        "\n",
        "As you can see above the sentiment scores for both redacted and unredacted reviews are basically the same!"
      ]
    }
  ],
  "metadata": {
    "colab": {
      "provenance": []
    },
    "kernelspec": {
      "display_name": "Python 3",
      "name": "python3"
    },
    "language_info": {
      "name": "python"
    }
  },
  "nbformat": 4,
  "nbformat_minor": 0
}
