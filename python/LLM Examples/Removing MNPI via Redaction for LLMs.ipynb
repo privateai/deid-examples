{
 "cells": [
  {
   "attachments": {},
   "cell_type": "markdown",
   "id": "c6c3417b",
   "metadata": {},
   "source": [
    "# How It Works\n",
    "\n",
    "### [Get your own demo API KEY Today!](https://www.private-ai.com/9fxt)\n",
    "\n",
    "\n",
    "\n",
    "![image.png](../../images/Howitworks_PGPTJun.png)"
   ]
  },
  {
   "attachments": {},
   "cell_type": "markdown",
   "id": "a7b52264",
   "metadata": {},
   "source": [
    "# A Complex Example\n",
    "\n",
    "In this example we will construct a prompt for a legal document know as an LOI. This is an M&A transaction document that contains large amounts of sensitive data. Obvisouly you don't want this type of content getting out into the wild... so we'll make sure that doesn't happen!\n",
    "\n",
    "![alt text](../../images/LOI_image.png \"LOI Example\")"
   ]
  },
  {
   "attachments": {},
   "cell_type": "markdown",
   "id": "7cddd2e4",
   "metadata": {},
   "source": [
    "## Redacting the File\n",
    "\n",
    "The first step we will take is taking this super sensitive document, and making it look like this\n",
    "\n",
    "![alt text](../../images/redacted_LOI.png \"LOI Redacted\")\n",
    "\n",
    "As you can see now, the sensitive data elements have been removed, redering the entire document to be non-material to a 3rd party without direct knowledge of the transation. We can still see that this document is related to an M&A transaction, but we can't see the details. That is an important point. Without knowing the document is related to M&A, we are unable to use LLMs to gain any insights that will be relevant. In short, we want LLMs to know as much as possible, without breaching the PII, organizational data, dollar amounts, and anything else that could uniquely identify the transaction"
   ]
  },
  {
   "cell_type": "code",
   "execution_count": 2,
   "id": "0ab77cc5",
   "metadata": {},
   "outputs": [],
   "source": [
    "from privateai_client import PAIClient\n",
    "from privateai_client import request_objects\n",
    "import openai\n",
    "import os\n",
    "import json\n",
    "import requests\n",
    "import fitz\n",
    "\n",
    "PRIVATEAI_API_KEY = \"API KEY HERE\" #this is required only if you are using our public API\n",
    "PRIVATEAI_URL = \"YOUR PAI URL HERE\" # your hosted URL, or our public demo URL\n",
    "openai.api_key = \"YOU OPENAI API KEY HERE\""
   ]
  },
  {
   "cell_type": "code",
   "execution_count": 4,
   "id": "2b3085f2",
   "metadata": {},
   "outputs": [],
   "source": [
    "client = PAIClient(\"https\", PRIVATEAI_URL )"
   ]
  },
  {
   "cell_type": "code",
   "execution_count": 5,
   "id": "3f81b728",
   "metadata": {},
   "outputs": [],
   "source": [
    "#Create some wrapper functions\n",
    "\n",
    "from tenacity import (\n",
    "    retry,\n",
    "    stop_after_attempt,\n",
    "    wait_random_exponential,\n",
    ")  # for exponential backoff\n",
    "\n",
    "\n",
    "@retry(wait=wait_random_exponential(min=1, max=60), stop=stop_after_attempt(6))\n",
    "def completion_with_backoff(**kwargs):\n",
    "    return openai.Completion.create(**kwargs)\n",
    "\n",
    "@retry(wait=wait_random_exponential(min=1, max=60), stop=stop_after_attempt(6))\n",
    "def chat_completion_with_backoff(**kwargs):\n",
    "    return openai.ChatCompletion.create(**kwargs)\n",
    "\n",
    "def regex_redact(raw_text):\n",
    "    pattern = \"(?:\\\\d+([\\\\.,]\\\\d+)?\\\\s?%)|(?:%\\\\s?\\\\d+([\\\\.,]\\\\d+)?)\"\n",
    "    filter_obj = request_objects.filter_selector_obj(type=\"BLOCK\", pattern=pattern, entity_type=\"PERCENTAGE\")\n",
    "    request_obj = request_objects.process_text_obj(text=[raw_text])\n",
    "    request_obj.entity_detection.filter= [filter_obj]\n",
    "    response_obj = client.process_text(request_obj)\n",
    "    return response_obj\n",
    "    \n"
   ]
  },
  {
   "attachments": {},
   "cell_type": "markdown",
   "id": "7633289a",
   "metadata": {},
   "source": [
    "## Here we read the file into text\n",
    "\n",
    "We have the ability to send the file directly to our redaction service, but for now we will just grab the text.\n",
    "\n",
    "Note: We have the ability to redact an entire file via our process file route( [URI](https://docs.private-ai.com/reference/latest/operation/process_files_uri_v3_process_files_uri_post/) and [Base64](https://docs.private-ai.com/reference/latest/operation/process_files_base64_v3_process_files_base64_post/) ), but for right now we will use the fritz library."
   ]
  },
  {
   "cell_type": "code",
   "execution_count": 8,
   "id": "87cf4a87",
   "metadata": {},
   "outputs": [
    {
     "name": "stdout",
     "output_type": "stream",
     "text": [
      "CONFIDENTIAL \n",
      "Date \n",
      "BY ELECTRONIC MAIL \n",
      "Sarah Jackson \n",
      "123 Main Street, Toronto ON \n",
      "Dear Sam Matthews, \n",
      "We are writing to provide a letter of intent from Best Capital Partners. (“BCP”) in respect of a \n",
      "transaction (a “Transaction”) with Matthews Industries Inc. (the “Company”).  We appreciate the \n",
      "time and energy you and your team have afforded us in discussing this opportunity and the \n",
      "information that has been provided thus far.   \n",
      "As we continue to spend time evaluating Matthews Industries Inc., we believe that Best Capital \n",
      "Partners will bring unique value and capabilities to the Company, accelerating the development \n",
      "and growth of Matthews Industries Inc..  We believe we could drive Matthews Industries Inc.’s \n",
      "growth strategy, by doing roll-up M&A, investing in growth activities and creating leverage \n",
      "through streamlined financing opportunities. \n",
      "Transaction Overview and Structure \n",
      "Based on our preliminary review of the information provided and subject to the conditions set \n",
      "forth below, Best Capital Partners is pleased to submit this non-binding letter of intent (the \n",
      "“Proposal”) for a transaction with Matthews Industries Inc.  We propose purchasing 100% of the \n",
      "equity of the Company, including all assets and liabilities, in such a way that Matthews \n",
      "Industries Inc.still has significant exposure to future upside.  \n",
      "We believe that in order for this transaction to be successful our interests must be aligned.  With \n",
      "that in mind we have designed a compensation structure that allows all parties to benefit from \n",
      "our future success in an equitable way.  \n",
      "We offer a total purchase price of $550 million consisting of:  \n",
      "o\n",
      "$500M of cash on closing \n",
      "o\n",
      "$50M - shares of Best Capital Partners, issued immediately upon closing and not \n",
      "subject to any vesting period representing approximately 5% of Best Capital \n",
      "Partners; \n",
      "\n",
      "Page 2\n",
      "o\n",
      "$100M of performance upside - performance shares of Best Capital Partners (an \n",
      "additional 5%, approximately), issued upon achieving the following targets / \n",
      "milestones: \n",
      "▪\n",
      "50% growth in year 2023 \n",
      "▪\n",
      "22% growth in year 2024 \n",
      "•\n",
      "The final purchase price will be adjusted for customary changes in net working capital \n",
      "which will be reflected in the cash component of the purchase price. \n",
      "Illustrative Timeline \n",
      "Given the importance of timing for Matthews Industries Inc. in respect to this transaction we \n",
      "have proposed a high-level timeline as follows: \n",
      "•\n",
      "January 2022: Financial due diligence and valuation work \n",
      "•\n",
      "February 2022: Operational due diligence and Best Capital Partners visit to Matthews \n",
      "Industries Inc.’s head office \n",
      "•\n",
      "March 2022 onward: Drafting of Definitive Agreement \n",
      "Due Diligence Process \n",
      "This Transaction is of the highest priority for us, and we are prepared to proceed as quickly as \n",
      "possible; it is important that you make that same commitment to us before we expend additional \n",
      "time and resources pursuing this opportunity.  Best Capital Partners has developed an investment \n",
      "thesis and an understanding of the business through our initial due diligence, including several \n",
      "conversations with management as well as a preliminary data review.  We envision our \n",
      "remaining due diligence would include, but would not be limited to, commercial, accounting and \n",
      "financial due diligence, as well as customary legal, tax and regulatory work.  With the \n",
      "Company’s full cooperation, we believe we can expeditiously complete our due diligence, and \n",
      "present Matthews Industries Inc. with a definitive agreement within eight weeks from the date \n",
      "our Proposal is accepted.   \n",
      "Exclusivity & Confidentiality \n",
      "If the Company is interested in pursuing the proposed Transaction, we would require sixty days \n",
      "of exclusivity (the “Exclusivity Period”) to finalize our due diligence and negotiate definitive \n",
      "documentation, subject to a 60-day extension if Best Capital Partners is working in good faith to \n",
      "consummate the transaction at the initial expiration date.  In light of our Proposal’s premium \n",
      "\n",
      "Page 3\n",
      "valuation we believe that granting exclusivity at this stage will benefit the Project and its \n",
      "Shareholders.  In order to complete our due diligence and to secure the additional requisite \n",
      "capital, we will need reasonable access to Company information and the ability to share that \n",
      "information with our prospective equity partners and debt financing sources in a manner that \n",
      "protects the confidentiality of your information and our discussions.  A draft form of the \n",
      "exclusivity and confidentiality agreement is enclosed as Exhibit A for your consideration (the \n",
      "“Exclusivity and Confidentiality Agreement”).  We emphasize our desire to complete the \n",
      "proposed Transaction in an expeditious and efficient manner and our readiness to mobilize \n",
      "resources to move ahead quickly.  To that end, and assuming we sign this letter in advance, we \n",
      "would suggest an organizational meeting as soon as possible to agree on the work plan during the \n",
      "Exclusivity Period. \n",
      "Non-Binding Commitment \n",
      "This non-binding indication of interest is confidential and may not be disclosed other than to \n",
      "you, the Company and its advisors on a strictly need-to-know basis.  It is not intended, and shall \n",
      "not be deemed, to create any binding obligation on the part of Best Capital Partners, or any of its \n",
      "affiliates, to engage in any transaction with the Company or to continue its consideration of any \n",
      "such transaction.  Subject to the immediately following sentence, none of the parties shall be \n",
      "bound in any way in connection with this letter unless and until the parties execute a definitive \n",
      "agreement, and then shall be bound only in accordance with the terms of such agreement. \n",
      "Notwithstanding anything to the contrary in this letter, the Exclusivity and Confidentiality \n",
      "Agreement, once executed by the parties thereto, shall constitute binding obligations of the \n",
      "parties thereto. \n",
      "We are very excited about the potential opportunity and hope that you are equally interested in \n",
      "proceeding in a constructive and expeditious dialogue.  We look forward to working with you to \n",
      "complete this transaction. \n",
      "Very truly yours, \n",
      "Sarah Jackson \n",
      "Best Capital Corp \n",
      "\n",
      "Page 4\n",
      "Exhibit A \n",
      "EXCLUSIVITY AND CONFIDENTIALITY AGREEMENT \n",
      "[See attached] \n",
      "\n"
     ]
    }
   ],
   "source": [
    "filepath =  \"sample_pdfs/Letter-of-Intent-pdf.pdf\"\n",
    "doc = fitz.open(filepath)\n",
    "raw_text = \"\"\n",
    "for page in doc:\n",
    "    text = page.get_text()\n",
    "    raw_text = raw_text+\"\\n\"+text\n",
    "    print(text)"
   ]
  },
  {
   "attachments": {},
   "cell_type": "markdown",
   "id": "48847c53",
   "metadata": {},
   "source": [
    "## Prepare our Secure Prompt Function\n",
    "\n",
    "Here we are building a nice and tidy function that; 1) redacts the raw text that is sent in, 2) sends the redacted text + prompt to openAI, and 3) re-identifies the redacted information (for a better user experience that reading redacted files)"
   ]
  },
  {
   "cell_type": "code",
   "execution_count": 9,
   "id": "aeb766a3",
   "metadata": {},
   "outputs": [],
   "source": [
    "# Deidentify the text\n",
    "def secure_completion(prompt, raw_text, temp):\n",
    "    ##########################################\n",
    "    ######## REDACT DATA #####################\n",
    "    ##########################################\n",
    "    completions = {}\n",
    "    response_obj =  regex_redact(raw_text)\n",
    "\n",
    "    ##########################################\n",
    "    ######## BUILD LOCAL ENTITIES MAP ########\n",
    "    ##########################################\n",
    "    deidentified_text = response_obj.processed_text\n",
    "    completions['redactect_raw_text'] = deidentified_text\n",
    "    entity_list = [request_objects.entity(row['processed_text'], row['text']) for row in response_obj.entities[0]]\n",
    "    \n",
    "    ##########################################\n",
    "    ######## SEND REDACTED PROMPT TO LLM #####\n",
    "    ##########################################\n",
    "    MODEL = \"gpt-4\" # \"gpt-3.5-turbo\"\n",
    "    PRE_PROMPT = \"Leave any text markers like [value] alone. \"\n",
    "    completion = chat_completion_with_backoff(\n",
    "            model=MODEL,\n",
    "            temperature=temp,\n",
    "            messages=[\n",
    "            {\"role\": \"user\", \n",
    "             \"content\": f'{prompt}: {deidentified_text}'}\n",
    "            ]\n",
    "        )\n",
    "    completions[\"redacted\"] = completion.choices[0].message['content']\n",
    "    \n",
    "    ##########################################\n",
    "    ######## RE-IDENTIFY COMPLETION ##########\n",
    "    ##########################################\n",
    "    request_obj = request_objects.reidentify_text_obj(\n",
    "        processed_text=[completion.choices[0].message['content']], entities=entity_list\n",
    "    )\n",
    "    response_obj = client.reidentify_text(request_obj)\n",
    "    completions[\"reidentified\"] = response_obj.body[0]\n",
    "    return completions"
   ]
  },
  {
   "attachments": {},
   "cell_type": "markdown",
   "id": "059c0205",
   "metadata": {},
   "source": [
    "## An example Use\n",
    "\n",
    "Here I want to ask openAI to summarize the transaction for me. We are going to build you a dictionary object `secure_transaction_summary` so you can see exactly what happened to the text, the completion, and the re-identification"
   ]
  },
  {
   "cell_type": "code",
   "execution_count": 10,
   "id": "b4fedf3d",
   "metadata": {},
   "outputs": [],
   "source": [
    "secure_transaction_summary = secure_completion(\n",
    "    \"Write a short summary of this document including details of the organizations involved\",\n",
    "    raw_text,\n",
    "    0.8\n",
    ")"
   ]
  },
  {
   "cell_type": "code",
   "execution_count": 11,
   "id": "87c18e68",
   "metadata": {},
   "outputs": [
    {
     "name": "stdout",
     "output_type": "stream",
     "text": [
      "****************************************************************************\n",
      "REDACTED INPUT TEXT\n",
      "****************************************************************************\n",
      "['\\nCONFIDENTIAL \\nDate \\nBY ELECTRONIC MAIL \\n[NAME_1] \\n[LOCATION_ADDRESS_1] \\nDear [NAME_2], \\nWe are writing to provide a letter of intent from [ORGANIZATION_1]. (“[ORGANIZATION_2]”) in respect of a \\ntransaction (a “Transaction”) with [ORGANIZATION_3]. (the “Company”).  We appreciate the \\ntime and energy you and your team have afforded us in discussing this opportunity and the \\ninformation that has been provided thus far.   \\nAs we continue to spend time evaluating [ORGANIZATION_3]., we believe that [ORGANIZATION_4] will bring unique value and capabilities to the Company, accelerating the development \\nand growth of [ORGANIZATION_3]..  We believe we could drive [ORGANIZATION_3].’s \\ngrowth strategy, by doing roll-up M&A, investing in growth activities and creating leverage \\nthrough streamlined financing opportunities. \\nTransaction Overview and Structure \\nBased on our preliminary review of the information provided and subject to the conditions set \\nforth below, [ORGANIZATION_1] is pleased to submit this non-binding letter of intent (the \\n“Proposal”) for a transaction with [ORGANIZATION_3].  We propose purchasing [PERCENTAGE_1]% of the \\nequity of the Company, including all assets and liabilities, in such a way that [ORGANIZATION_5].still has significant exposure to future upside.  \\nWe believe that in order for this transaction to be successful our interests must be aligned.  With \\nthat in mind we have designed a compensation structure that allows all parties to benefit from \\nour future success in an equitable way.  \\nWe offer a total purchase price of [MONEY_1] consisting of:  \\no\\n[MONEY_2] of cash on closing \\no\\n[MONEY_3] - shares of [ORGANIZATION_1], issued immediately upon closing and not \\nsubject to any vesting period representing approximately [PERCENTAGE_2]% of [ORGANIZATION_4]; \\n\\nPage 2\\no\\n[MONEY_4] of performance upside - performance shares of [ORGANIZATION_1] (an \\nadditional [PERCENTAGE_2]%, approximately), issued upon achieving the following targets / \\nmilestones: \\n▪\\n[PERCENTAGE_3]% growth in year [DATE_INTERVAL_1] \\n▪\\n[PERCENTAGE_4]% growth in year [DATE_INTERVAL_2] \\n•\\nThe final purchase price will be adjusted for customary changes in net working capital \\nwhich will be reflected in the cash component of the purchase price. \\nIllustrative Timeline \\nGiven the importance of timing for [ORGANIZATION_3]. in respect to this transaction we \\nhave proposed a high-level timeline as follows: \\n•\\n[DATE_INTERVAL_3]: Financial due diligence and valuation work \\n•\\n[DATE_INTERVAL_4]: Operational due diligence and [ORGANIZATION_1] visit to [ORGANIZATION_6]s head office \\n•\\n[DATE_INTERVAL_5] onward: Drafting of Definitive Agreement \\nDue Diligence Process \\nThis Transaction is of the highest priority for us, and we are prepared to proceed as quickly as \\npossible; it is important that you make that same commitment to us before we expend additional \\ntime and resources pursuing this opportunity.  [ORGANIZATION_1] has developed an investment \\nthesis and an understanding of the business through our initial due diligence, including several \\nconversations with management as well as a preliminary data review.  We envision our \\nremaining due diligence would include, but would not be limited to, commercial, accounting and \\nfinancial due diligence, as well as customary legal, tax and regulatory work.  With the \\nCompany’s full cooperation, we believe we can expeditiously complete our due diligence, and \\npresent [ORGANIZATION_3]. with a definitive agreement within eight weeks from the date \\nour Proposal is accepted.   \\nExclusivity & Confidentiality \\nIf the Company is interested in pursuing the proposed Transaction, we would require sixty days \\nof exclusivity (the “Exclusivity Period”) to finalize our due diligence and negotiate definitive \\ndocumentation, subject to a 60-day extension if [ORGANIZATION_1] is working in good faith to \\nconsummate the transaction at the initial expiration date.  In light of our Proposal’s premium \\n\\nPage 3\\nvaluation we believe that granting exclusivity at this stage will benefit the Project and its \\n[OCCUPATION_1].  In order to complete our due diligence and to secure the additional requisite \\ncapital, we will need reasonable access to Company information and the ability to share that \\ninformation with our prospective equity partners and debt financing sources in a manner that \\nprotects the confidentiality of your information and our discussions.  A draft form of the \\nexclusivity and confidentiality agreement is enclosed as Exhibit A for your consideration (the \\n“Exclusivity and Confidentiality Agreement”).  We emphasize our desire to complete the \\nproposed Transaction in an expeditious and efficient manner and our readiness to mobilize \\nresources to move ahead quickly.  To that end, and assuming we sign this letter in advance, we \\nwould suggest an organizational meeting as soon as possible to agree on the work plan during the \\nExclusivity Period. \\nNon-Binding Commitment \\nThis non-binding indication of interest is confidential and may not be disclosed other than to \\nyou, the Company and its [OCCUPATION_2] on a strictly need-to-know basis.  It is not intended, and shall \\nnot be deemed, to create any binding obligation on the part of [ORGANIZATION_1], or any of its \\naffiliates, to engage in any transaction with the Company or to continue its consideration of any \\nsuch transaction.  Subject to the immediately following sentence, none of the parties shall be \\nbound in any way in connection with this letter unless and until the parties execute a definitive \\nagreement, and then shall be bound only in accordance with the terms of such agreement. \\nNotwithstanding anything to the contrary in this letter, the Exclusivity and Confidentiality \\nAgreement, once executed by the parties thereto, shall constitute binding obligations of the \\nparties thereto. \\nWe are very excited about the potential opportunity and hope that you are equally interested in \\nproceeding in a constructive and expeditious dialogue.  We look forward to working with you to \\ncomplete this transaction. \\nVery truly yours, \\n[NAME_1] \\n[ORGANIZATION_7] \\n\\nPage 4\\nExhibit A \\nEXCLUSIVITY AND CONFIDENTIALITY AGREEMENT \\n[See attached] \\n']\n",
      "****************************************************************************\n",
      "REDACTED CHAT COMPLETION FROM OPENAI\n",
      "****************************************************************************\n",
      "This is a confidential letter of intent from ORGANIZATION_1 (also referred to as ORGANIZATION_2) regarding a transaction with ORGANIZATION_3 (the Company). The letter proposes that ORGANIZATION_1 purchases a percentage of the company's equity, believing that their involvement could accelerate the development and growth of ORGANIZATION_3. The total purchase price is mentioned and broken down into cash on closing, shares of ORGANIZATION_1, and performance upside linked to growth targets. The letter also outlines a timeline for financial and operational due diligence, and the drafting of the Definitive Agreement. ORGANIZATION_1 requests a 60-day exclusivity period to finalize the due diligence and negotiations, and emphasizes the non-binding nature of the letter until a definitive agreement is signed.\n",
      "****************************************************************************\n",
      "RE-IDENTIFIED COMPLETION\n",
      "****************************************************************************\n",
      "This is a confidential letter of intent from Best Capital Partners (also referred to as BCP) regarding a transaction with Matthews Industries Inc (the Company). The letter proposes that Best Capital Partners purchases a percentage of the company's equity, believing that their involvement could accelerate the development and growth of Matthews Industries Inc. The total purchase price is mentioned and broken down into cash on closing, shares of Best Capital Partners, and performance upside linked to growth targets. The letter also outlines a timeline for financial and operational due diligence, and the drafting of the Definitive Agreement. Best Capital Partners requests a 60-day exclusivity period to finalize the due diligence and negotiations, and emphasizes the non-binding nature of the letter until a definitive agreement is signed.\n"
     ]
    }
   ],
   "source": [
    "from IPython.display import display, Markdown, Latex\n",
    "print(\"****************************************************************************\")\n",
    "print(\"REDACTED INPUT TEXT\")\n",
    "print(\"****************************************************************************\")\n",
    "print(secure_transaction_summary['redactect_raw_text'])\n",
    "print(\"****************************************************************************\")\n",
    "print(\"REDACTED CHAT COMPLETION FROM OPENAI\")\n",
    "print(\"****************************************************************************\")\n",
    "print(secure_transaction_summary[\"redacted\"])\n",
    "print(\"****************************************************************************\")\n",
    "print(\"RE-IDENTIFIED COMPLETION\")\n",
    "print(\"****************************************************************************\")\n",
    "print(secure_transaction_summary[\"reidentified\"])"
   ]
  },
  {
   "attachments": {},
   "cell_type": "markdown",
   "id": "fce85e80",
   "metadata": {},
   "source": [
    "## That was pretty amazing!\n",
    "\n",
    "As you can see, the completion that openAI sends us is completely redacted, and without knowing the context of the raw text in the file you would have no way of know who is involved in the transaction. Once we re-identify the completion, the result is now completely clear. Amazing how well it works right?!?\n",
    "\n",
    "## More complex examples\n",
    "\n",
    "Now let's do a few hard things like entity extraction, function calls, etc. so that we can impress you even more :) "
   ]
  },
  {
   "cell_type": "code",
   "execution_count": 12,
   "id": "2a032c8e",
   "metadata": {},
   "outputs": [],
   "source": [
    "redacted_prompt_completion_text = secure_completion(\n",
    "    \"\",\n",
    "    \"Please itemize this document: \"+raw_text,\n",
    "    0.8\n",
    ")"
   ]
  },
  {
   "cell_type": "code",
   "execution_count": 13,
   "id": "25511c76",
   "metadata": {},
   "outputs": [
    {
     "name": "stdout",
     "output_type": "stream",
     "text": [
      "1. A letter of intent is being sent from [ORGANIZATION_1] to [NAME_2] concerning a proposed transaction with [ORGANIZATION_3].\n",
      "2. The intent of [ORGANIZATION_1] is to bring value and capabilities to [ORGANIZATION_3] that will accelerate its development and growth.\n",
      "3. [ORGANIZATION_1] proposes purchasing [PERCENTAGE_1]% of the equity of [ORGANIZATION_3], including all assets and liabilities.\n",
      "4. The proposed purchase price is [MONEY_1] consisting of [MONEY_2] in cash, shares of [ORGANIZATION_1] valued at [MONEY_3] and [MONEY_4] worth of performance shares.\n",
      "5. The purchase price is subject to adjustment for changes in net working capital.\n",
      "6. An illustrative timeline is provided detailing the steps leading up to the drafting of the definitive agreement.\n",
      "7. The due diligence process includes commercial, accounting and financial due diligence, as well as customary legal, tax and regulatory work.\n",
      "8. [ORGANIZATION_1] requires sixty days of exclusivity to finalize their due diligence and negotiate definitive documentation.\n",
      "9. The proposal comes with an attached draft of the Exclusivity and Confidentiality Agreement as Exhibit A.\n",
      "10. The letter of intent is not binding and only forms a commitment once a definitive agreement is signed.\n",
      "11. The letter is signed by [NAME_1] from [ORGANIZATION_6]. \n",
      "12. An Exclusivity and Confidentiality Agreement is attached as Exhibit A.\n"
     ]
    }
   ],
   "source": [
    "print(redacted_prompt_completion_text['redacted'])"
   ]
  },
  {
   "cell_type": "code",
   "execution_count": 14,
   "id": "675435f4",
   "metadata": {},
   "outputs": [],
   "source": [
    "data_extract = secure_completion(\n",
    "    \"\"\"\n",
    "    Please create a json array of all of the percentages mentioned in this document. \n",
    "    The json item should have the 3 keys of: category, amount. \n",
    "    \"\"\",\n",
    "    raw_text,0.8)"
   ]
  },
  {
   "cell_type": "code",
   "execution_count": 15,
   "id": "9d7d4386",
   "metadata": {},
   "outputs": [
    {
     "data": {
      "text/plain": [
       "[{'category': 'equity', 'amount': '[PERCENTAGE_1]'},\n",
       " {'category': 'shares', 'amount': '[PERCENTAGE_2]'},\n",
       " {'category': 'performance_shares', 'amount': '[PERCENTAGE_2]'},\n",
       " {'category': 'growth_year1', 'amount': '[PERCENTAGE_3]'},\n",
       " {'category': 'growth_year2', 'amount': '[PERCENTAGE_4]'}]"
      ]
     },
     "execution_count": 15,
     "metadata": {},
     "output_type": "execute_result"
    }
   ],
   "source": [
    "json.loads(data_extract['redacted'])"
   ]
  },
  {
   "cell_type": "code",
   "execution_count": null,
   "id": "6d13e4c7",
   "metadata": {},
   "outputs": [],
   "source": [
    "funny_response = secure_completion(\n",
    "    \"\"\"\n",
    "    Please create a json array of all of the money mentioned in this document. \n",
    "    The json item should have the 3 keys of: category, amount, and sarcastic_comment. \n",
    "    The sarcastic comment should be in the style of an infomercial spokesperson\n",
    "    \"\"\",\n",
    "    raw_text,0.8)"
   ]
  },
  {
   "cell_type": "code",
   "execution_count": null,
   "id": "28396698",
   "metadata": {},
   "outputs": [],
   "source": [
    "json.loads(funny_response['redacted'])"
   ]
  },
  {
   "attachments": {},
   "cell_type": "markdown",
   "id": "0e5bafec",
   "metadata": {},
   "source": [
    "## Real Producivity Gains Coming up!\n",
    "\n",
    "Let's say that you are an analyst at KKR who is really gunning for that promotion. How can you make yourself useful?.. By absolutely cranking out solid work product. Usually this means your in the office from 8AM - 9PM every day. But those days are over! Simply whip up some handy GenAI powered tools, with safety and security in mind of course, and run the code below!"
   ]
  },
  {
   "cell_type": "code",
   "execution_count": null,
   "id": "5cdbb584",
   "metadata": {},
   "outputs": [],
   "source": [
    "from pathlib import Path\n",
    "files_list = []\n",
    "for child in Path('./sample_data/').iterdir():\n",
    "    if child.is_file():\n",
    "        files_list.append(child.read_text())\n"
   ]
  },
  {
   "cell_type": "code",
   "execution_count": null,
   "id": "9c503afe",
   "metadata": {},
   "outputs": [],
   "source": [
    "for file in files_list:\n",
    "    secure_completion(\n",
    "    \"Summarize this document, be short and concise and include money amounts and people\",\n",
    "    file,0.8)"
   ]
  },
  {
   "cell_type": "code",
   "execution_count": null,
   "id": "a99f6f9b",
   "metadata": {},
   "outputs": [],
   "source": []
  }
 ],
 "metadata": {
  "kernelspec": {
   "display_name": "Python 3 (ipykernel)",
   "language": "python",
   "name": "python3"
  },
  "language_info": {
   "codemirror_mode": {
    "name": "ipython",
    "version": 3
   },
   "file_extension": ".py",
   "mimetype": "text/x-python",
   "name": "python",
   "nbconvert_exporter": "python",
   "pygments_lexer": "ipython3",
   "version": "3.11.3"
  }
 },
 "nbformat": 4,
 "nbformat_minor": 5
}
